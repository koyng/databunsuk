{
 "cells": [
  {
   "cell_type": "code",
   "execution_count": 1,
   "id": "mature-diagnosis",
   "metadata": {},
   "outputs": [
    {
     "ename": "SyntaxError",
     "evalue": "positional argument follows keyword argument (<ipython-input-1-e6fcda5f5249>, line 7)",
     "output_type": "error",
     "traceback": [
      "\u001b[1;36m  File \u001b[1;32m\"<ipython-input-1-e6fcda5f5249>\"\u001b[1;36m, line \u001b[1;32m7\u001b[0m\n\u001b[1;33m    plt.pie(size, labels=label, autopct='%.1f%%', colors=color, explode(0,0,0.1,0))\u001b[0m\n\u001b[1;37m                                                                                  ^\u001b[0m\n\u001b[1;31mSyntaxError\u001b[0m\u001b[1;31m:\u001b[0m positional argument follows keyword argument\n"
     ]
    }
   ],
   "source": [
    "import matplotlib.pyplot as plt\n",
    "plt.rc('font', family='Malgun Gothic')\n",
    "size = [2441, 2312, 1031, 1233]\n",
    "label = ['A형', 'B형', 'AB형', 'O형']\n",
    "color = ['darkmagenta', 'deeppink', 'hotpink', 'pink']\n",
    "plt.axis('equal')\n",
    "plt.pie(size, labels=label, autopct='%.1f%%', colors=color, explode(0,0,0.1,0))\n",
    "plt.legend()\n",
    "plt.show()"
   ]
  }
 ],
 "metadata": {
  "kernelspec": {
   "display_name": "Python 3",
   "language": "python",
   "name": "python3"
  },
  "language_info": {
   "codemirror_mode": {
    "name": "ipython",
    "version": 3
   },
   "file_extension": ".py",
   "mimetype": "text/x-python",
   "name": "python",
   "nbconvert_exporter": "python",
   "pygments_lexer": "ipython3",
   "version": "3.9.1"
  }
 },
 "nbformat": 4,
 "nbformat_minor": 5
}
